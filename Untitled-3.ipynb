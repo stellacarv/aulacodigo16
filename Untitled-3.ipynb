{
 "cells": [
  {
   "cell_type": "code",
   "execution_count": 5,
   "metadata": {},
   "outputs": [
    {
     "name": "stdout",
     "output_type": "stream",
     "text": [
      "O valorv do seu carro eh 101.5 o valor da sua taxa eh 1.5\n"
     ]
    }
   ],
   "source": [
    "#ano e o preço\n",
    "taxa1= 0.01\n",
    "taxa2= 0.015\n",
    "ano= float(input('Digite o ano de compra do seu carro'))\n",
    "carro= int (input ('Digite o valor do carro'))\n",
    "if ano < 1990 : \n",
    "    valortaxa = (carro * taxa1)\n",
    "    carroNovo= carro + (carro * taxa1)\n",
    "    print('O valorv do seu carro eh', carroNovo,'o valor da sua taxa eh', valortaxa)\n",
    "else: \n",
    "    valortaxa= (carro * taxa2)\n",
    "    carroNovo= carro + (carro * taxa2)\n",
    "    print('O valorv do seu carro eh', carroNovo,'o valor da sua taxa eh', valortaxa)"
   ]
  },
  {
   "cell_type": "code",
   "execution_count": 3,
   "metadata": {},
   "outputs": [
    {
     "name": "stdout",
     "output_type": "stream",
     "text": [
      "seu salario eh: 240.0 e a difernca eh: 40.0\n"
     ]
    }
   ],
   "source": [
    "salario= float (input ('Qual é o seu salario atual?'))\n",
    "cargo= int (input ('Qual é o seu cargo?'))\n",
    "\n",
    "gerente= 1/100\n",
    "engenheiro= 20/100\n",
    "tecnico= 30/100\n",
    "\n",
    "if cargo == 101: \n",
    "    aumento= salario * 0.1\n",
    "    novoSalario= aumento+salario \n",
    "    diferenca= novoSalario - salario\n",
    "    print('seu salario eh:', novoSalario, 'e a difernca eh:',diferenca)\n",
    "elif cargo == 102: \n",
    "    aumento= salario * 0.2\n",
    "    novoSalario= aumento+salario \n",
    "    diferenca= novoSalario - salario\n",
    "    print('seu salario eh:', novoSalario, 'e a difernca eh:',diferenca)\n",
    "\n",
    "elif cargo == 103: \n",
    "    aumento= salario * 0.3\n",
    "    novoSalario= aumento+salario \n",
    "    diferenca= novoSalario - salario\n",
    "    print('seu salario eh:', novoSalario, 'e a difernca eh:',diferenca)\n",
    "else:  \n",
    "    aumento= salario * 0.4\n",
    "    novoSalario= aumento+salario \n",
    "    diferenca= novoSalario - salario\n",
    "    print('seu salario eh:', novoSalario, 'e a difernca eh:',diferenca)\n",
    "\n"
   ]
  }
 ],
 "metadata": {
  "kernelspec": {
   "display_name": "Python 3",
   "language": "python",
   "name": "python3"
  },
  "language_info": {
   "codemirror_mode": {
    "name": "ipython",
    "version": 3
   },
   "file_extension": ".py",
   "mimetype": "text/x-python",
   "name": "python",
   "nbconvert_exporter": "python",
   "pygments_lexer": "ipython3",
   "version": "3.11.9"
  }
 },
 "nbformat": 4,
 "nbformat_minor": 2
}
